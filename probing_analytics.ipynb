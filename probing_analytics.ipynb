{
 "cells": [
  {
   "cell_type": "code",
   "execution_count": 1,
   "metadata": {},
   "outputs": [],
   "source": [
    "base_path = \"results_updated\"\n"
   ]
  },
  {
   "cell_type": "code",
   "execution_count": 14,
   "metadata": {},
   "outputs": [],
   "source": [
    "!tar -zxf {base_path}.tar.gz"
   ]
  },
  {
   "cell_type": "code",
   "execution_count": 2,
   "metadata": {},
   "outputs": [],
   "source": [
    "import os, json\n",
    "from collections import defaultdict\n",
    "\n",
    "SCORES = []\n",
    "\n",
    "params = defaultdict(set)\n",
    "for base_folder, folders, files in os.walk(base_path):\n",
    "    if files:\n",
    "        date, rest = base_folder.split('/')[-1].split('-')\n",
    "        time, time_suf, lang, smth, cat = rest.split('_')\n",
    "        for file in files:\n",
    "            dat = json.load(open(f\"{base_folder}/{file}\"))\n",
    "\n",
    "            for k, v in dat[\"params\"].items():\n",
    "                if type(v) is str: params[k].add(v)\n",
    "            xs = list(dat[\"results\"][\"test_score\"].keys())\n",
    "            ys = [el[0] for el in dat[\"results\"][\"test_score\"].values()]\n",
    "            score = dat[\"params\"].copy()\n",
    "            score[\"coord\"] = xs\n",
    "            score[\"score\"] = ys\n",
    "            SCORES.append(score)\n"
   ]
  },
  {
   "cell_type": "code",
   "execution_count": 3,
   "metadata": {},
   "outputs": [
    {
     "data": {
      "text/plain": [
       "2046"
      ]
     },
     "execution_count": 3,
     "metadata": {},
     "output_type": "execute_result"
    }
   ],
   "source": [
    "len(SCORES)"
   ]
  },
  {
   "cell_type": "code",
   "execution_count": 4,
   "metadata": {},
   "outputs": [],
   "source": [
    "from itertools import product\n",
    "from matplotlib import pyplot as plt\n",
    "from datetime import datetime\n",
    "import numpy as np\n",
    "from collections import defaultdict\n",
    "import random\n",
    "\n",
    "\n",
    "CATEGORICAL_T = \"categorical\"\n",
    "CONTINUOUS_T = \"continuous\"\n"
   ]
  },
  {
   "cell_type": "code",
   "execution_count": 5,
   "metadata": {},
   "outputs": [
    {
     "name": "stdin",
     "output_type": "stream",
     "text": [
      "is \"layer\" a categorical probing task? [Y/N]:  N\n"
     ]
    }
   ],
   "source": [
    "task2type = {}\n",
    "for probing_type in params[\"probing_type\"]:\n",
    "    categorical_ = input(f\"is \\\"{probing_type}\\\" a categorical probing task? [Y/N]: \")\n",
    "    if categorical_.lower().startswith('y'):\n",
    "        type_ = CATEGORICAL_T\n",
    "    else:\n",
    "        type_ = CONTINUOUS_T\n",
    "    task2type[probing_type] = type_"
   ]
  },
  {
   "cell_type": "code",
   "execution_count": 6,
   "metadata": {},
   "outputs": [
    {
     "name": "stdout",
     "output_type": "stream",
     "text": [
      "100 200 300 400 500 600 700 800 900 1000 \n",
      "1100 1200 1300 1400 1500 1600 1700 1800 1900 2000 \n",
      "2100 2200 2300 2400 2500 2600 2700 2800 2900 3000 \n",
      "3100 3200 3300 3400 3500 3600 3700 3800 3900 4000 \n",
      "4100 4200 4300 4400 4500 4600 4700 4800 4900 5000 \n",
      "5100 5200 5300 5400 5500 5600 5700 5800 5900 6000 \n",
      "6100 6200 6300 6400 6500 6600 6700 6800 6900 7000 \n",
      "7100 7200 7300 7400 7500 7600 7700 7800 7900 8000 \n",
      "8100 8200 8300 8400 8500 8600 8700 8800 8900 "
     ]
    }
   ],
   "source": [
    "axes2type = defaultdict(lambda: \"continuous\")\n",
    "from itertools import cycle\n",
    "colors = cycle([\"#b6e1fc\",\"#ccccff\",\"#ede1ed\",\"#d8ebd1\"])\n",
    "\n",
    "lev2col = defaultdict(lambda: next(colors))\n",
    "\n",
    "\n",
    "CNT = 0\n",
    "CHARTS = []\n",
    "POOR_COORDS = []\n",
    "GOOD_COORDS = set()\n",
    "\n",
    "facet_values = defaultdict(set)\n",
    "for score in SCORES:\n",
    "    for facet_type in score:\n",
    "        facet_value = score[facet_type]\n",
    "        if type(facet_value) is dict: continue\n",
    "        if type(facet_value) is list: facet_value=tuple(facet_value)\n",
    "        facet_values[facet_type].add(facet_value)\n",
    "\n",
    "def barchart(x_ax, y_ax, scores, reference_ordering=None):\n",
    "    \"\"\"takes the axes labels, exps results and (optional) ordering\n",
    "    returns the properly ordered <x,y> points\n",
    "    \"\"\"\n",
    "    xy_pairs = [(res[x_ax], res[y_ax]) for res in scores]\n",
    "    \n",
    "    if reference_ordering is None and axes2type[x_ax] == CATEGORICAL_T:\n",
    "        xy_pairs = sorted(xy_pairs, key=lambda tup: tup[1])\n",
    "    elif reference_ordering:\n",
    "        xy_di = dict(xy_pairs)\n",
    "        xy_pairs = [(x, xy_di[x]) for x in reference_ordering]\n",
    "    if xy_pairs:\n",
    "        xs, ys = zip(*xy_pairs)\n",
    "    else: xs, ys = [], []\n",
    "    return np.array(xs).flatten(), np.array(ys).flatten()\n",
    "\n",
    "def matches_restriction(score, restriction):\n",
    "    return all(score[k] == v for k,v in restriction.items())\n",
    "\n",
    "def histogram_html(x_ax, y_ax, facet_coords):\n",
    "    \n",
    "    global SCORES, CHARTS, CNT, POOR_COORDS\n",
    "    scores_to_plot = [score for score in SCORES if matches_restriction(score, facet_coords)]\n",
    "    xs, ys = barchart(x_ax, y_ax, scores_to_plot)\n",
    "\n",
    "    if len(xs):\n",
    "        CHARTS.append({\"coord\": facet_coords.copy(), \"xs\": xs, \"ys\": ys})\n",
    "        GOOD_COORDS.add(str(facet_coords))\n",
    "    else:\n",
    "        POOR_COORDS.append(facet_coords)\n",
    "    CNT +=1\n",
    "    if CNT % 100 == 0:\n",
    "        print(CNT, end = ' ')\n",
    "        if CNT % 1000 == 0:\n",
    "            print()\n",
    "    return ''\n",
    "\n",
    "    \n",
    "    fig, ax = plt.subplots(1, 1, figsize=(4,4))\n",
    "    ax.bar(xs, ys)\n",
    "    fig.suptitle(''.join(f\"{k}={v}\" for k,v in facet_coords.items()))\n",
    "    ax.set_xlabel(x_ax)\n",
    "    ax.set_ylabel(SCORES[0][\"metric_name\"])\n",
    "    figfile = f\"{str(datetime.now().timestamp()).replace('.','')}.jpg\"\n",
    "    fig.savefig(figfile)\n",
    "    html_code = f'<img src=\"{figfile}\"/>'\n",
    "    return html_code\n",
    "\n",
    "def process_facet_level(facet_level, next_levels, x_ax, y_ax, facet_coords=None):\n",
    "    global SCORES\n",
    "    if facet_coords is None: facet_coords = {}\n",
    "    codes = []\n",
    "    for facet_value in facet_values[facet_level]:\n",
    "        facet_coords[facet_level] = facet_value\n",
    "        if next_levels:\n",
    "            nested_html = process_facet_level(next_levels[0], next_levels[1:], x_ax, y_ax, facet_coords)\n",
    "        else:\n",
    "            nested_html = histogram_html(x_ax, y_ax, facet_coords)\n",
    "        codes.append(f\"<div id='{facet_level}-{facet_value}' style='border:1px solid black;display: grid;  grid-gap: 5px; background-color: {lev2col[facet_level]}; margin:20px'><h2>{facet_level+'='+facet_value}</h2>{nested_html}</div>\")\n",
    "    return ''.join(codes)\n",
    "\n",
    "\n",
    "\n",
    "\n",
    "x_ax = \"coord\"\n",
    "y_ax = \"score\"\n",
    "facet_hierarchy = [\"task_category\", \"task_language\"]\n",
    "\n",
    "res = process_facet_level(facet_hierarchy[0], facet_hierarchy[1:], x_ax, y_ax)\n",
    "print(res, file=open(\"facets.html\", 'w'))\n"
   ]
  },
  {
   "cell_type": "code",
   "execution_count": 7,
   "metadata": {},
   "outputs": [
    {
     "name": "stdout",
     "output_type": "stream",
     "text": [
      "1240\n"
     ]
    }
   ],
   "source": [
    "print(len(CHARTS))"
   ]
  },
  {
   "cell_type": "code",
   "execution_count": 8,
   "metadata": {},
   "outputs": [
    {
     "name": "stdout",
     "output_type": "stream",
     "text": [
      "1240\n"
     ]
    }
   ],
   "source": [
    "print(len(GOOD_COORDS))"
   ]
  },
  {
   "cell_type": "code",
   "execution_count": 10,
   "metadata": {},
   "outputs": [
    {
     "data": {
      "application/vnd.jupyter.widget-view+json": {
       "model_id": "922a1016b1e54ae4993f10ce87bfd32e",
       "version_major": 2,
       "version_minor": 0
      },
      "text/plain": [
       "  0%|          | 0/1537600 [00:00<?, ?it/s]"
      ]
     },
     "metadata": {},
     "output_type": "display_data"
    },
    {
     "name": "stderr",
     "output_type": "stream",
     "text": [
      "/usr/local/lib/python3.9/site-packages/scipy/stats/stats.py:4023: PearsonRConstantInputWarning: An input array is constant; the correlation coefficient is not defined.\n",
      "  warnings.warn(PearsonRConstantInputWarning())\n"
     ]
    }
   ],
   "source": [
    "from itertools import product\n",
    "from similaritymeasures import frechet_dist\n",
    "from scipy.stats import pearsonr\n",
    "from tqdm.auto import tqdm\n",
    "from langcodes import Language\n",
    "\n",
    "\n",
    "import pandas as pd\n",
    "lang2wals = pd.read_csv(\"Languages.csv\").set_index(\"iso_codes\")\n",
    "\n",
    "already_scored = {}\n",
    "lang2lat = {}\n",
    "lang2long = {}\n",
    "for left_c, right_c in tqdm(product(CHARTS, CHARTS), total=(len(CHARTS)*len(CHARTS))):\n",
    "    if str(left_c['coord']) == str(right_c['coord']): continue\n",
    "    if (str(left_c['coord']), str(right_c['coord'])) in already_scored: continue\n",
    "    if (str(right_c['coord']), str(left_c['coord'])) in already_scored: continue\n",
    "    if len(left_c['ys']) != len(right_c['ys']): continue\n",
    "    \n",
    "    res_di = {}\n",
    "    for col, value in left_c['coord'].items(): res_di[f\"left:{col}\"] = value\n",
    "    for col, value in right_c['coord'].items(): res_di[f\"right:{col}\"] = value\n",
    "    \n",
    "    bad_row=False\n",
    "    res_di_update = {}\n",
    "    for colname, value in res_di.items():\n",
    "        if \"task_language\" in colname:\n",
    "            res_di_update[colname.replace(\"task_language\", \"language\")] = Language.get(value).to_alpha3()\n",
    "            latitude = lang2lat.setdefault(value, lang2wals.latitude.get(Language.get(value).to_alpha3(), None))\n",
    "            if \"iso_codes\" in str(latitude): latitude=None\n",
    "            if lang2lat[value] is None: bad_row=True; break;\n",
    "            longitude = lang2long.setdefault(value, lang2wals.longitude.get(Language.get(value).to_alpha3(), None))\n",
    "            if \"iso_codes\" in str(longitude): longitude=None\n",
    "            res_di_update[colname.replace(\"task_language\", \"latitude\")] = latitude\n",
    "            res_di_update[colname.replace(\"task_language\", \"longitude\")] = longitude\n",
    "    res_di.update(res_di_update)\n",
    "    if bad_row: continue\n",
    "\n",
    "    res_di[\"frechet\"] = frechet_dist(left_c['ys'], right_c['ys'])\n",
    "    res_di[\"pearson\"] = pearsonr(left_c['ys'], right_c['ys'])\n",
    "    res_di[\"pearson_v\"] = res_di[\"pearson\"][0]\n",
    "    already_scored[(str(left_c['coord']), str(right_c['coord']))] = res_di\n",
    "    "
   ]
  },
  {
   "cell_type": "code",
   "execution_count": 11,
   "metadata": {},
   "outputs": [
    {
     "data": {
      "text/plain": [
       "129743"
      ]
     },
     "execution_count": 11,
     "metadata": {},
     "output_type": "execute_result"
    }
   ],
   "source": [
    "len(already_scored.values())"
   ]
  },
  {
   "cell_type": "code",
   "execution_count": 12,
   "metadata": {},
   "outputs": [
    {
     "name": "stderr",
     "output_type": "stream",
     "text": [
      "/var/folders/sw/psr8kbxs7y11tbbbb0m4ws1h0000gq/T/ipykernel_4924/1246877653.py:3: FutureWarning: In a future version of pandas all arguments of DataFrame.dropna will be keyword-only\n",
      "  already_scored_df = pd.DataFrame(already_scored.values()).dropna('rows', subset=[\"pearson_v\", \"left:latitude\", \"left:longitude\", \"right:language\", \"right:latitude\", \"right:longitude\"])\n"
     ]
    },
    {
     "data": {
      "text/html": [
       "<div>\n",
       "<style scoped>\n",
       "    .dataframe tbody tr th:only-of-type {\n",
       "        vertical-align: middle;\n",
       "    }\n",
       "\n",
       "    .dataframe tbody tr th {\n",
       "        vertical-align: top;\n",
       "    }\n",
       "\n",
       "    .dataframe thead th {\n",
       "        text-align: right;\n",
       "    }\n",
       "</style>\n",
       "<table border=\"1\" class=\"dataframe\">\n",
       "  <thead>\n",
       "    <tr style=\"text-align: right;\">\n",
       "      <th></th>\n",
       "      <th>left:task_category</th>\n",
       "      <th>left:task_language</th>\n",
       "      <th>right:task_category</th>\n",
       "      <th>right:task_language</th>\n",
       "      <th>left:language</th>\n",
       "      <th>left:latitude</th>\n",
       "      <th>left:longitude</th>\n",
       "      <th>right:language</th>\n",
       "      <th>right:latitude</th>\n",
       "      <th>right:longitude</th>\n",
       "      <th>frechet</th>\n",
       "      <th>pearson</th>\n",
       "      <th>pearson_v</th>\n",
       "    </tr>\n",
       "  </thead>\n",
       "  <tbody>\n",
       "    <tr>\n",
       "      <th>0</th>\n",
       "      <td>Subcat</td>\n",
       "      <td>af</td>\n",
       "      <td>Subcat</td>\n",
       "      <td>quc</td>\n",
       "      <td>afr</td>\n",
       "      <td>-31.0</td>\n",
       "      <td>22.000000</td>\n",
       "      <td>quc</td>\n",
       "      <td>15.00</td>\n",
       "      <td>-91.416667</td>\n",
       "      <td>0.199777</td>\n",
       "      <td>(0.29024383916911617, 0.36011379668087046)</td>\n",
       "      <td>0.290244</td>\n",
       "    </tr>\n",
       "    <tr>\n",
       "      <th>1</th>\n",
       "      <td>Subcat</td>\n",
       "      <td>af</td>\n",
       "      <td>SubGender</td>\n",
       "      <td>pl</td>\n",
       "      <td>afr</td>\n",
       "      <td>-31.0</td>\n",
       "      <td>22.000000</td>\n",
       "      <td>pol</td>\n",
       "      <td>52.00</td>\n",
       "      <td>20.000000</td>\n",
       "      <td>0.119375</td>\n",
       "      <td>(-0.3240244743300963, 0.3041924978003351)</td>\n",
       "      <td>-0.324024</td>\n",
       "    </tr>\n",
       "    <tr>\n",
       "      <th>2</th>\n",
       "      <td>Subcat</td>\n",
       "      <td>af</td>\n",
       "      <td>PunctType</td>\n",
       "      <td>ca</td>\n",
       "      <td>afr</td>\n",
       "      <td>-31.0</td>\n",
       "      <td>22.000000</td>\n",
       "      <td>cat</td>\n",
       "      <td>41.75</td>\n",
       "      <td>2.000000</td>\n",
       "      <td>0.334786</td>\n",
       "      <td>(0.5596106141617089, 0.05849629123835554)</td>\n",
       "      <td>0.559611</td>\n",
       "    </tr>\n",
       "    <tr>\n",
       "      <th>6</th>\n",
       "      <td>Subcat</td>\n",
       "      <td>af</td>\n",
       "      <td>Gender</td>\n",
       "      <td>br</td>\n",
       "      <td>afr</td>\n",
       "      <td>-31.0</td>\n",
       "      <td>22.000000</td>\n",
       "      <td>bre</td>\n",
       "      <td>48.00</td>\n",
       "      <td>-3.000000</td>\n",
       "      <td>0.097577</td>\n",
       "      <td>(0.24798474927430902, 0.4370752777159013)</td>\n",
       "      <td>0.247985</td>\n",
       "    </tr>\n",
       "    <tr>\n",
       "      <th>11</th>\n",
       "      <td>Subcat</td>\n",
       "      <td>af</td>\n",
       "      <td>Gender</td>\n",
       "      <td>bg</td>\n",
       "      <td>afr</td>\n",
       "      <td>-31.0</td>\n",
       "      <td>22.000000</td>\n",
       "      <td>bul</td>\n",
       "      <td>42.50</td>\n",
       "      <td>25.000000</td>\n",
       "      <td>0.271278</td>\n",
       "      <td>(0.005573970297842179, 0.9862833756961876)</td>\n",
       "      <td>0.005574</td>\n",
       "    </tr>\n",
       "    <tr>\n",
       "      <th>...</th>\n",
       "      <td>...</td>\n",
       "      <td>...</td>\n",
       "      <td>...</td>\n",
       "      <td>...</td>\n",
       "      <td>...</td>\n",
       "      <td>...</td>\n",
       "      <td>...</td>\n",
       "      <td>...</td>\n",
       "      <td>...</td>\n",
       "      <td>...</td>\n",
       "      <td>...</td>\n",
       "      <td>...</td>\n",
       "      <td>...</td>\n",
       "    </tr>\n",
       "    <tr>\n",
       "      <th>129738</th>\n",
       "      <td>Nomzr</td>\n",
       "      <td>gub</td>\n",
       "      <td>Person[subj]</td>\n",
       "      <td>quc</td>\n",
       "      <td>gub</td>\n",
       "      <td>-5.0</td>\n",
       "      <td>-46.000000</td>\n",
       "      <td>quc</td>\n",
       "      <td>15.00</td>\n",
       "      <td>-91.416667</td>\n",
       "      <td>0.222419</td>\n",
       "      <td>(-0.23492678934579586, 0.46234544303991776)</td>\n",
       "      <td>-0.234927</td>\n",
       "    </tr>\n",
       "    <tr>\n",
       "      <th>129739</th>\n",
       "      <td>Nomzr</td>\n",
       "      <td>gub</td>\n",
       "      <td>Person[subj]</td>\n",
       "      <td>mdf</td>\n",
       "      <td>gub</td>\n",
       "      <td>-5.0</td>\n",
       "      <td>-46.000000</td>\n",
       "      <td>mdf</td>\n",
       "      <td>54.00</td>\n",
       "      <td>44.000000</td>\n",
       "      <td>0.132370</td>\n",
       "      <td>(0.4418688088561764, 0.15037966448837928)</td>\n",
       "      <td>0.441869</td>\n",
       "    </tr>\n",
       "    <tr>\n",
       "      <th>129740</th>\n",
       "      <td>Person[subj]</td>\n",
       "      <td>myv</td>\n",
       "      <td>Person[subj]</td>\n",
       "      <td>quc</td>\n",
       "      <td>myv</td>\n",
       "      <td>53.0</td>\n",
       "      <td>45.500000</td>\n",
       "      <td>quc</td>\n",
       "      <td>15.00</td>\n",
       "      <td>-91.416667</td>\n",
       "      <td>0.168760</td>\n",
       "      <td>(-0.121568735894544, 0.7066443636344626)</td>\n",
       "      <td>-0.121569</td>\n",
       "    </tr>\n",
       "    <tr>\n",
       "      <th>129741</th>\n",
       "      <td>Person[subj]</td>\n",
       "      <td>myv</td>\n",
       "      <td>Person[subj]</td>\n",
       "      <td>mdf</td>\n",
       "      <td>myv</td>\n",
       "      <td>53.0</td>\n",
       "      <td>45.500000</td>\n",
       "      <td>mdf</td>\n",
       "      <td>54.00</td>\n",
       "      <td>44.000000</td>\n",
       "      <td>0.044675</td>\n",
       "      <td>(0.3272227654697816, 0.2991655029594745)</td>\n",
       "      <td>0.327223</td>\n",
       "    </tr>\n",
       "    <tr>\n",
       "      <th>129742</th>\n",
       "      <td>Person[subj]</td>\n",
       "      <td>quc</td>\n",
       "      <td>Person[subj]</td>\n",
       "      <td>mdf</td>\n",
       "      <td>quc</td>\n",
       "      <td>15.0</td>\n",
       "      <td>-91.416667</td>\n",
       "      <td>mdf</td>\n",
       "      <td>54.00</td>\n",
       "      <td>44.000000</td>\n",
       "      <td>0.155555</td>\n",
       "      <td>(-0.1522949635728942, 0.6365626659762434)</td>\n",
       "      <td>-0.152295</td>\n",
       "    </tr>\n",
       "  </tbody>\n",
       "</table>\n",
       "<p>40247 rows × 13 columns</p>\n",
       "</div>"
      ],
      "text/plain": [
       "       left:task_category left:task_language right:task_category  \\\n",
       "0                  Subcat                 af              Subcat   \n",
       "1                  Subcat                 af           SubGender   \n",
       "2                  Subcat                 af           PunctType   \n",
       "6                  Subcat                 af              Gender   \n",
       "11                 Subcat                 af              Gender   \n",
       "...                   ...                ...                 ...   \n",
       "129738              Nomzr                gub        Person[subj]   \n",
       "129739              Nomzr                gub        Person[subj]   \n",
       "129740       Person[subj]                myv        Person[subj]   \n",
       "129741       Person[subj]                myv        Person[subj]   \n",
       "129742       Person[subj]                quc        Person[subj]   \n",
       "\n",
       "       right:task_language left:language  left:latitude  left:longitude  \\\n",
       "0                      quc           afr          -31.0       22.000000   \n",
       "1                       pl           afr          -31.0       22.000000   \n",
       "2                       ca           afr          -31.0       22.000000   \n",
       "6                       br           afr          -31.0       22.000000   \n",
       "11                      bg           afr          -31.0       22.000000   \n",
       "...                    ...           ...            ...             ...   \n",
       "129738                 quc           gub           -5.0      -46.000000   \n",
       "129739                 mdf           gub           -5.0      -46.000000   \n",
       "129740                 quc           myv           53.0       45.500000   \n",
       "129741                 mdf           myv           53.0       45.500000   \n",
       "129742                 mdf           quc           15.0      -91.416667   \n",
       "\n",
       "       right:language  right:latitude  right:longitude   frechet  \\\n",
       "0                 quc           15.00       -91.416667  0.199777   \n",
       "1                 pol           52.00        20.000000  0.119375   \n",
       "2                 cat           41.75         2.000000  0.334786   \n",
       "6                 bre           48.00        -3.000000  0.097577   \n",
       "11                bul           42.50        25.000000  0.271278   \n",
       "...               ...             ...              ...       ...   \n",
       "129738            quc           15.00       -91.416667  0.222419   \n",
       "129739            mdf           54.00        44.000000  0.132370   \n",
       "129740            quc           15.00       -91.416667  0.168760   \n",
       "129741            mdf           54.00        44.000000  0.044675   \n",
       "129742            mdf           54.00        44.000000  0.155555   \n",
       "\n",
       "                                            pearson  pearson_v  \n",
       "0        (0.29024383916911617, 0.36011379668087046)   0.290244  \n",
       "1         (-0.3240244743300963, 0.3041924978003351)  -0.324024  \n",
       "2         (0.5596106141617089, 0.05849629123835554)   0.559611  \n",
       "6         (0.24798474927430902, 0.4370752777159013)   0.247985  \n",
       "11       (0.005573970297842179, 0.9862833756961876)   0.005574  \n",
       "...                                             ...        ...  \n",
       "129738  (-0.23492678934579586, 0.46234544303991776)  -0.234927  \n",
       "129739    (0.4418688088561764, 0.15037966448837928)   0.441869  \n",
       "129740     (-0.121568735894544, 0.7066443636344626)  -0.121569  \n",
       "129741     (0.3272227654697816, 0.2991655029594745)   0.327223  \n",
       "129742    (-0.1522949635728942, 0.6365626659762434)  -0.152295  \n",
       "\n",
       "[40247 rows x 13 columns]"
      ]
     },
     "execution_count": 12,
     "metadata": {},
     "output_type": "execute_result"
    }
   ],
   "source": [
    "import pandas as pd\n",
    "\n",
    "already_scored_df = pd.DataFrame(already_scored.values()).dropna('rows', subset=[\"pearson_v\", \"left:latitude\", \"left:longitude\", \"right:language\", \"right:latitude\", \"right:longitude\"])\n",
    "already_scored_df"
   ]
  },
  {
   "cell_type": "code",
   "execution_count": 24,
   "metadata": {},
   "outputs": [],
   "source": [
    "already_scored_df.to_csv(\"already_scored.csv\", index=False)"
   ]
  },
  {
   "cell_type": "code",
   "execution_count": 13,
   "metadata": {},
   "outputs": [
    {
     "ename": "OSError",
     "evalue": "Background processes not supported.",
     "output_type": "error",
     "traceback": [
      "\u001b[0;31m---------------------------------------------------------------------------\u001b[0m",
      "\u001b[0;31mOSError\u001b[0m                                   Traceback (most recent call last)",
      "Input \u001b[0;32mIn [13]\u001b[0m, in \u001b[0;36m<module>\u001b[0;34m\u001b[0m\n\u001b[0;32m----> 1\u001b[0m \u001b[43mget_ipython\u001b[49m\u001b[43m(\u001b[49m\u001b[43m)\u001b[49m\u001b[38;5;241;43m.\u001b[39;49m\u001b[43msystem\u001b[49m\u001b[43m(\u001b[49m\u001b[38;5;124;43m'\u001b[39;49m\u001b[38;5;124;43mnohup python3 app.py &\u001b[39;49m\u001b[38;5;124;43m'\u001b[39;49m\u001b[43m)\u001b[49m\n",
      "File \u001b[0;32m/usr/local/Cellar/jupyterlab/3.2.9/libexec/lib/python3.9/site-packages/ipykernel/zmqshell.py:621\u001b[0m, in \u001b[0;36mZMQInteractiveShell.system_piped\u001b[0;34m(self, cmd)\u001b[0m\n\u001b[1;32m    606\u001b[0m \u001b[38;5;124;03m\"\"\"Call the given cmd in a subprocess, piping stdout/err\u001b[39;00m\n\u001b[1;32m    607\u001b[0m \n\u001b[1;32m    608\u001b[0m \u001b[38;5;124;03mParameters\u001b[39;00m\n\u001b[0;32m   (...)\u001b[0m\n\u001b[1;32m    613\u001b[0m \u001b[38;5;124;03m    other than simple text.\u001b[39;00m\n\u001b[1;32m    614\u001b[0m \u001b[38;5;124;03m\"\"\"\u001b[39;00m\n\u001b[1;32m    615\u001b[0m \u001b[38;5;28;01mif\u001b[39;00m cmd\u001b[38;5;241m.\u001b[39mrstrip()\u001b[38;5;241m.\u001b[39mendswith(\u001b[38;5;124m'\u001b[39m\u001b[38;5;124m&\u001b[39m\u001b[38;5;124m'\u001b[39m):\n\u001b[1;32m    616\u001b[0m     \u001b[38;5;66;03m# this is *far* from a rigorous test\u001b[39;00m\n\u001b[1;32m    617\u001b[0m     \u001b[38;5;66;03m# We do not support backgrounding processes because we either use\u001b[39;00m\n\u001b[1;32m    618\u001b[0m     \u001b[38;5;66;03m# pexpect or pipes to read from.  Users can always just call\u001b[39;00m\n\u001b[1;32m    619\u001b[0m     \u001b[38;5;66;03m# os.system() or use ip.system=ip.system_raw\u001b[39;00m\n\u001b[1;32m    620\u001b[0m     \u001b[38;5;66;03m# if they really want a background process.\u001b[39;00m\n\u001b[0;32m--> 621\u001b[0m     \u001b[38;5;28;01mraise\u001b[39;00m \u001b[38;5;167;01mOSError\u001b[39;00m(\u001b[38;5;124m\"\u001b[39m\u001b[38;5;124mBackground processes not supported.\u001b[39m\u001b[38;5;124m\"\u001b[39m)\n\u001b[1;32m    623\u001b[0m \u001b[38;5;66;03m# we explicitly do NOT return the subprocess status code, because\u001b[39;00m\n\u001b[1;32m    624\u001b[0m \u001b[38;5;66;03m# a non-None value would trigger :func:`sys.displayhook` calls.\u001b[39;00m\n\u001b[1;32m    625\u001b[0m \u001b[38;5;66;03m# Instead, we store the exit_code in user_ns.\u001b[39;00m\n\u001b[1;32m    626\u001b[0m \u001b[38;5;66;03m# Also, protect system call from UNC paths on Windows here too\u001b[39;00m\n\u001b[1;32m    627\u001b[0m \u001b[38;5;66;03m# as is done in InteractiveShell.system_raw\u001b[39;00m\n\u001b[1;32m    628\u001b[0m \u001b[38;5;28;01mif\u001b[39;00m sys\u001b[38;5;241m.\u001b[39mplatform \u001b[38;5;241m==\u001b[39m \u001b[38;5;124m'\u001b[39m\u001b[38;5;124mwin32\u001b[39m\u001b[38;5;124m'\u001b[39m:\n",
      "\u001b[0;31mOSError\u001b[0m: Background processes not supported."
     ]
    }
   ],
   "source": [
    "!nohup python3 app.py &"
   ]
  },
  {
   "cell_type": "code",
   "execution_count": null,
   "metadata": {},
   "outputs": [],
   "source": []
  }
 ],
 "metadata": {
  "interpreter": {
   "hash": "aee8b7b246df8f9039afb4144a1f6fd8d2ca17a180786b69acc140d282b71a49"
  },
  "kernelspec": {
   "display_name": "Python 3 (ipykernel)",
   "language": "python",
   "name": "python3"
  },
  "language_info": {
   "codemirror_mode": {
    "name": "ipython",
    "version": 3
   },
   "file_extension": ".py",
   "mimetype": "text/x-python",
   "name": "python",
   "nbconvert_exporter": "python",
   "pygments_lexer": "ipython3",
   "version": "3.9.10"
  }
 },
 "nbformat": 4,
 "nbformat_minor": 4
}
